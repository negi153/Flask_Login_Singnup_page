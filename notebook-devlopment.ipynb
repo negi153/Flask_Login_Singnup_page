{
 "cells": [
  {
   "cell_type": "code",
   "execution_count": 1,
   "id": "c4841263",
   "metadata": {},
   "outputs": [],
   "source": [
    "from flask import Flask, request, render_template\n",
    "import sqlite3"
   ]
  },
  {
   "cell_type": "code",
   "execution_count": 2,
   "id": "7f547b09",
   "metadata": {},
   "outputs": [],
   "source": [
    "db_path = 'database/user_db.db'"
   ]
  },
  {
   "cell_type": "code",
   "execution_count": 10,
   "id": "4fb6a5f3",
   "metadata": {},
   "outputs": [],
   "source": [
    "conn = sqlite3.connect(db_path)"
   ]
  },
  {
   "cell_type": "code",
   "execution_count": 31,
   "id": "e5ed7634",
   "metadata": {},
   "outputs": [
    {
     "data": {
      "text/plain": [
       "<sqlite3.Cursor at 0x1dec24160a0>"
      ]
     },
     "execution_count": 31,
     "metadata": {},
     "output_type": "execute_result"
    }
   ],
   "source": [
    "query='create table if not exists user_info (name char(1000), age int, gender char(1), contact_no int, username char(1000) primary key not null, password char(1000) not null);'\n",
    "\n",
    "conn.execute(query)"
   ]
  },
  {
   "cell_type": "code",
   "execution_count": 32,
   "id": "61fbbfa6",
   "metadata": {},
   "outputs": [
    {
     "ename": "IntegrityError",
     "evalue": "UNIQUE constraint failed: user_info.username",
     "output_type": "error",
     "traceback": [
      "\u001b[1;31m---------------------------------------------------------------------------\u001b[0m",
      "\u001b[1;31mIntegrityError\u001b[0m                            Traceback (most recent call last)",
      "\u001b[1;32m~\\AppData\\Local\\Temp\\ipykernel_18712\\2745810069.py\u001b[0m in \u001b[0;36m<module>\u001b[1;34m\u001b[0m\n\u001b[0;32m      1\u001b[0m \u001b[0mquery\u001b[0m\u001b[1;33m=\u001b[0m\u001b[1;34m\"insert into user_info (name, age, gender, contact_no, username, password ) values ('mukesh negi',25,'m',8573947758,'sunny123','12345');\"\u001b[0m\u001b[1;33m\u001b[0m\u001b[0m\n\u001b[0;32m      2\u001b[0m \u001b[1;33m\u001b[0m\u001b[0m\n\u001b[1;32m----> 3\u001b[1;33m \u001b[0mconn\u001b[0m\u001b[1;33m.\u001b[0m\u001b[0mexecute\u001b[0m\u001b[1;33m(\u001b[0m\u001b[0mquery\u001b[0m\u001b[1;33m)\u001b[0m\u001b[1;33m\u001b[0m\u001b[0m\n\u001b[0m",
      "\u001b[1;31mIntegrityError\u001b[0m: UNIQUE constraint failed: user_info.username"
     ]
    }
   ],
   "source": [
    "query=\"insert into user_info (name, age, gender, contact_no, username, password ) values ('mukesh negi',25,'m',8573947758,'sunny123','12345');\"\n",
    "\n",
    "conn.execute(query)"
   ]
  },
  {
   "cell_type": "code",
   "execution_count": 14,
   "id": "247b58aa",
   "metadata": {},
   "outputs": [
    {
     "name": "stdout",
     "output_type": "stream",
     "text": [
      "('mukesh singh negi', 25, 'male', 7567, '123', '456')\n",
      "('sunny kymar', 34, 'male', 777, '111', '222')\n"
     ]
    }
   ],
   "source": [
    "query=\"select * from user_info;\"\n",
    "\n",
    "res = conn.execute(query)\n",
    "for row in res:\n",
    "    print(row)"
   ]
  },
  {
   "cell_type": "code",
   "execution_count": 15,
   "id": "6fb88cdd",
   "metadata": {},
   "outputs": [],
   "source": [
    "conn.close()"
   ]
  },
  {
   "cell_type": "code",
   "execution_count": null,
   "id": "1f6f0bf3",
   "metadata": {},
   "outputs": [],
   "source": []
  },
  {
   "cell_type": "code",
   "execution_count": 23,
   "id": "029a254b",
   "metadata": {},
   "outputs": [
    {
     "name": "stdout",
     "output_type": "stream",
     "text": [
      "select * from user_info where username = 'negi123' and password = '12345'\n",
      "('mukesh negi', 25, 'm', 8573947758, 'negi123', '12345')\n"
     ]
    }
   ],
   "source": [
    "table_name='user_info'\n",
    "username='negi123'\n",
    "pwd='12345'\n",
    "query = f\"select * from {table_name} where username = '{username}' and password = '{pwd}'\"\n",
    "print(query)\n",
    "res = conn.execute(query)\n",
    "\n",
    "for row in res:\n",
    "    print(row)"
   ]
  },
  {
   "cell_type": "code",
   "execution_count": 24,
   "id": "3c39e9fe",
   "metadata": {},
   "outputs": [],
   "source": [
    "conn.commit()"
   ]
  },
  {
   "cell_type": "code",
   "execution_count": null,
   "id": "3c07e4d7",
   "metadata": {},
   "outputs": [],
   "source": []
  }
 ],
 "metadata": {
  "kernelspec": {
   "display_name": "pyenv",
   "language": "python",
   "name": "pyenv"
  },
  "language_info": {
   "codemirror_mode": {
    "name": "ipython",
    "version": 3
   },
   "file_extension": ".py",
   "mimetype": "text/x-python",
   "name": "python",
   "nbconvert_exporter": "python",
   "pygments_lexer": "ipython3",
   "version": "3.7.0"
  }
 },
 "nbformat": 4,
 "nbformat_minor": 5
}
